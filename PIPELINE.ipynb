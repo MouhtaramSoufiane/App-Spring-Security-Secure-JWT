{
  "nbformat": 4,
  "nbformat_minor": 0,
  "metadata": {
    "colab": {
      "provenance": [],
      "authorship_tag": "ABX9TyMxE+WunAqhFueMVXQDbsmP",
      "include_colab_link": true
    },
    "kernelspec": {
      "name": "python3",
      "display_name": "Python 3"
    },
    "language_info": {
      "name": "python"
    }
  },
  "cells": [
    {
      "cell_type": "markdown",
      "metadata": {
        "id": "view-in-github",
        "colab_type": "text"
      },
      "source": [
        "<a href=\"https://colab.research.google.com/github/MouhtaramSoufiane/App-Spring-Security-Secure-JWT/blob/master/PIPELINE.ipynb\" target=\"_parent\"><img src=\"https://colab.research.google.com/assets/colab-badge.svg\" alt=\"Open In Colab\"/></a>"
      ]
    },
    {
      "cell_type": "markdown",
      "source": [
        "**TOKENIZATION**\n",
        "\n",
        "\n",
        "\n"
      ],
      "metadata": {
        "id": "fWx9oQZtjfPK"
      }
    },
    {
      "cell_type": "code",
      "execution_count": 5,
      "metadata": {
        "colab": {
          "base_uri": "https://localhost:8080/"
        },
        "id": "Y5KRQIjDS8XB",
        "outputId": "16dc749f-d19b-4dcb-f631-5d31123121bf"
      },
      "outputs": [
        {
          "output_type": "execute_result",
          "data": {
            "text/plain": [
              "['Hello everyone !', \"Me it's parts of SDIA .\"]"
            ]
          },
          "metadata": {},
          "execution_count": 5
        }
      ],
      "source": [
        "import nltk\n",
        "# nltk.download('punkt')\n",
        "from nltk.tokenize import sent_tokenize\n",
        "\n",
        "EXAMPLE_SENTENCE=\"Hello everyone ! Me it's parts of SDIA .\"\n",
        "\n",
        "sent_tokenize(EXAMPLE_SENTENCE)"
      ]
    },
    {
      "cell_type": "code",
      "source": [
        "import nltk\n",
        "# nltk.download('punkt')\n",
        "from nltk.tokenize import word_tokenize\n",
        "\n",
        "EXAMPLE_SENTENCE=\"Hello everyone ! Me it's parts of SDIA .\"\n",
        "\n",
        "Sent_Tokinze=word_tokenize(EXAMPLE_SENTENCE)\n",
        "Sent_Tokinze"
      ],
      "metadata": {
        "colab": {
          "base_uri": "https://localhost:8080/"
        },
        "id": "AQCTdg8_f5nW",
        "outputId": "762426b1-1225-4e71-b105-03cff17a5b07"
      },
      "execution_count": 26,
      "outputs": [
        {
          "output_type": "execute_result",
          "data": {
            "text/plain": [
              "['Hello', 'everyone', '!', 'Me', 'it', \"'s\", 'parts', 'of', 'SDIA', '.']"
            ]
          },
          "metadata": {},
          "execution_count": 26
        }
      ]
    },
    {
      "cell_type": "code",
      "source": [
        "from nltk.corpus import stopwords\n",
        "nltk.download('stopwords')\n",
        "StopWords=list(stopwords.words(\"english\"))\n",
        "\n",
        "filteredSentence=[w for w in Sent_Tokinze if w  not in ( StopWords and Pounctuation ) ]\n",
        "\n",
        "filteredSentence"
      ],
      "metadata": {
        "colab": {
          "base_uri": "https://localhost:8080/"
        },
        "id": "udyVYolUmceO",
        "outputId": "70ec9d6f-2f56-46b4-f7dd-dcc51f993be3"
      },
      "execution_count": 32,
      "outputs": [
        {
          "output_type": "stream",
          "name": "stderr",
          "text": [
            "[nltk_data] Downloading package stopwords to /root/nltk_data...\n",
            "[nltk_data]   Package stopwords is already up-to-date!\n"
          ]
        },
        {
          "output_type": "execute_result",
          "data": {
            "text/plain": [
              "['Hello', 'everyone', 'Me', 'it', \"'s\", 'parts', 'of', 'SDIA']"
            ]
          },
          "metadata": {},
          "execution_count": 32
        }
      ]
    },
    {
      "cell_type": "code",
      "source": [
        "import string\n",
        "Pounctuation=string.punctuation\n",
        "print(Pounctuation)"
      ],
      "metadata": {
        "colab": {
          "base_uri": "https://localhost:8080/"
        },
        "id": "XJAgjlPpneJ0",
        "outputId": "b49ee05e-d6c2-4218-ef4e-d2b100d84982"
      },
      "execution_count": 31,
      "outputs": [
        {
          "output_type": "stream",
          "name": "stdout",
          "text": [
            "!\"#$%&'()*+,-./:;<=>?@[\\]^_`{|}~\n"
          ]
        }
      ]
    },
    {
      "cell_type": "markdown",
      "source": [
        "**STOP WORDS**"
      ],
      "metadata": {
        "id": "-fFrIGBaj1Pp"
      }
    },
    {
      "cell_type": "code",
      "source": [
        "from nltk.corpus import stopwords\n",
        "nltk.download('stopwords')\n",
        "StopWords_ENG=list(stopwords.words(\"english\"))\n",
        "StopWords_FR=list(stopwords.words(\"french\"))\n",
        "StopWords_AR=list(stopwords.words(\"arabic\"))\n",
        "\n",
        "print('Size of Stop Words in language English',len(StopWords_ENG))\n",
        "print('Size of Stop Words in language French',len(StopWords_FR))\n",
        "print('Size of Stop Words in language Arabic',len(StopWords_AR))\n",
        "StopWords_FR[0:13]\n",
        "print('STOP WORDS IN ARABIC LANGUAGE')\n",
        "StopWords_AR[0:20]"
      ],
      "metadata": {
        "colab": {
          "base_uri": "https://localhost:8080/"
        },
        "id": "23yLAKbWjYYA",
        "outputId": "8261c35f-6422-4af4-8af4-a2ec78b2c0ab"
      },
      "execution_count": 24,
      "outputs": [
        {
          "output_type": "stream",
          "name": "stdout",
          "text": [
            "Size of Stop Words in language English 179\n",
            "Size of Stop Words in language French 157\n",
            "Size of Stop Words in language Arabic 754\n",
            "STOP WORDS IN ARABIC LANGUAGE\n"
          ]
        },
        {
          "output_type": "stream",
          "name": "stderr",
          "text": [
            "[nltk_data] Downloading package stopwords to /root/nltk_data...\n",
            "[nltk_data]   Package stopwords is already up-to-date!\n"
          ]
        },
        {
          "output_type": "execute_result",
          "data": {
            "text/plain": [
              "['إذ',\n",
              " 'إذا',\n",
              " 'إذما',\n",
              " 'إذن',\n",
              " 'أف',\n",
              " 'أقل',\n",
              " 'أكثر',\n",
              " 'ألا',\n",
              " 'إلا',\n",
              " 'التي',\n",
              " 'الذي',\n",
              " 'الذين',\n",
              " 'اللاتي',\n",
              " 'اللائي',\n",
              " 'اللتان',\n",
              " 'اللتيا',\n",
              " 'اللتين',\n",
              " 'اللذان',\n",
              " 'اللذين',\n",
              " 'اللواتي']"
            ]
          },
          "metadata": {},
          "execution_count": 24
        }
      ]
    },
    {
      "cell_type": "markdown",
      "source": [
        "**STEMMING**"
      ],
      "metadata": {
        "id": "RKKUjWUIoCT4"
      }
    },
    {
      "cell_type": "code",
      "source": [
        "from nltk.stem import PorterStemmer\n",
        "ps=PorterStemmer()\n",
        "for w in filteredSentence:\n",
        "    print(ps.stem(w))\n",
        "\n"
      ],
      "metadata": {
        "colab": {
          "base_uri": "https://localhost:8080/"
        },
        "id": "Z8siKf41mOOi",
        "outputId": "08f9e8c4-ed94-4670-9069-9d23bd5d1b4d"
      },
      "execution_count": 34,
      "outputs": [
        {
          "output_type": "stream",
          "name": "stdout",
          "text": [
            "hello\n",
            "everyon\n",
            "me\n",
            "it\n",
            "'s\n",
            "part\n",
            "of\n",
            "sdia\n"
          ]
        }
      ]
    },
    {
      "cell_type": "markdown",
      "source": [
        "**LEMMITIZATION**"
      ],
      "metadata": {
        "id": "aSkam4ChpO4C"
      }
    },
    {
      "cell_type": "code",
      "source": [
        "from nltk.stem import WordNetLemmatizer\n",
        "nltk.download('wordnet')\n",
        "\n",
        "\n",
        "wl=WordNetLemmatizer()\n",
        "\n",
        "\n",
        "print(wl.lemmatize(\"geese\"))\n",
        "print(wl.lemmatize(\"feet\"))\n",
        "print(wl.lemmatize(\"loving\",'v'))"
      ],
      "metadata": {
        "colab": {
          "base_uri": "https://localhost:8080/"
        },
        "id": "bRnmshLDpWms",
        "outputId": "ebe02753-4cd7-42c0-8870-64f0edbcb272"
      },
      "execution_count": 60,
      "outputs": [
        {
          "output_type": "stream",
          "name": "stdout",
          "text": [
            "goose\n",
            "foot\n",
            "love\n"
          ]
        },
        {
          "output_type": "stream",
          "name": "stderr",
          "text": [
            "[nltk_data] Downloading package wordnet to /root/nltk_data...\n",
            "[nltk_data]   Package wordnet is already up-to-date!\n"
          ]
        }
      ]
    },
    {
      "cell_type": "code",
      "source": [
        "nltk.download('averaged_perceptron_tagger')\n",
        "POS_TAGGING=nltk.pos_tag(filteredSentence)\n",
        "POS_TAGGING"
      ],
      "metadata": {
        "colab": {
          "base_uri": "https://localhost:8080/"
        },
        "id": "RZQpQw9VrpPG",
        "outputId": "a0d81364-16b4-47d1-b4dc-95c072e16923"
      },
      "execution_count": 63,
      "outputs": [
        {
          "output_type": "stream",
          "name": "stderr",
          "text": [
            "[nltk_data] Downloading package averaged_perceptron_tagger to\n",
            "[nltk_data]     /root/nltk_data...\n",
            "[nltk_data]   Package averaged_perceptron_tagger is already up-to-\n",
            "[nltk_data]       date!\n"
          ]
        },
        {
          "output_type": "execute_result",
          "data": {
            "text/plain": [
              "[('Hello', 'NNP'),\n",
              " ('everyone', 'NN'),\n",
              " ('Me', 'NNP'),\n",
              " ('it', 'PRP'),\n",
              " (\"'s\", 'VBZ'),\n",
              " ('parts', 'NNS'),\n",
              " ('of', 'IN'),\n",
              " ('SDIA', 'NNP')]"
            ]
          },
          "metadata": {},
          "execution_count": 63
        }
      ]
    }
  ]
}